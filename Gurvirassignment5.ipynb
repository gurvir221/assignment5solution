{
 "cells": [
  {
   "cell_type": "code",
   "execution_count": null,
   "metadata": {},
   "outputs": [],
   "source": [
    "import pandas as pd\n",
    "import matplotlib.pyplot as plt\n",
    "import matplotlib.dates as mdates\n",
    "import numpy as np\n",
    "%matplotlib inline"
   ]
  },
  {
   "cell_type": "code",
   "execution_count": null,
   "metadata": {},
   "outputs": [],
   "source": [
    "plt.style.use('fivethirtyeight')"
   ]
  },
  {
   "cell_type": "code",
   "execution_count": null,
   "metadata": {},
   "outputs": [],
   "source": [
    "df = pd.read_csv('data.csv')"
   ]
  },
  {
   "cell_type": "markdown",
   "metadata": {},
   "source": [
    "# 1. show data field code 'AR0005' values for 'Argentina-Catamarca' for entire duration"
   ]
  },
  {
   "cell_type": "code",
   "execution_count": null,
   "metadata": {
    "scrolled": true
   },
   "outputs": [],
   "source": [
    "ans=df[(df.location=='Argentina-Catamarca') & (df.data_field_code=='AR0005')]['value']\n",
    "ans.values"
   ]
  },
  {
   "cell_type": "code",
   "execution_count": null,
   "metadata": {},
   "outputs": [],
   "source": [
    "y=df[(df.location=='Argentina-Catamarca') & (df.data_field_code=='AR0005')]['report_date']\n",
    "plt.plot(y,ans)\n",
    "plt.title('AR0005 values for Argentina-Catamarca')\n",
    "plt.xlabel('Date')\n",
    "plt.ylabel('Values')\n",
    "# plt.legend('xyz',loc=(1.2,1.2))\n",
    "plt.xticks(rotation='75')\n",
    "plt.show()"
   ]
  },
  {
   "cell_type": "markdown",
   "metadata": {},
   "source": [
    "# 2. Plot 'Argentina-CABA' and 'Argentina-Catamarca' for number of cases values for entire duration to identify the difference."
   ]
  },
  {
   "cell_type": "code",
   "execution_count": null,
   "metadata": {
    "scrolled": true
   },
   "outputs": [],
   "source": [
    "x=df[(df.location=='Argentina-CABA') & (df.unit=='cases')]['value'].values\n",
    "y=df[(df.location=='Argentina-Catamarca') & (df.unit=='cases')]['value'].values\n",
    "date=df[(df.location=='Argentina-Catamarca') & (df.unit=='cases')]['report_date'].values"
   ]
  },
  {
   "cell_type": "code",
   "execution_count": null,
   "metadata": {
    "scrolled": true
   },
   "outputs": [],
   "source": [
    "x=pd.to_numeric(x)\n",
    "x=x.sum()\n",
    "y=pd.to_numeric(y)\n",
    "y=y.sum()"
   ]
  },
  {
   "cell_type": "code",
   "execution_count": null,
   "metadata": {
    "scrolled": true
   },
   "outputs": [],
   "source": [
    "plt.bar(\"Argentina-CABA\",x,width=0.4)\n",
    "plt.bar('Argentina-Catamarca',y,width=0.4)\n",
    "plt.xlabel('Location')\n",
    "plt.ylabel('Values')\n",
    "plt.title('Sum of values of Argentina-CABA and Argentina-Catamarca')"
   ]
  },
  {
   "cell_type": "markdown",
   "metadata": {},
   "source": [
    "# 3. Plot how data field values are distributed across the locations 'Argentina-Buenos_Aires', 'Argentina-CABA', 'Argentina-Catamarca'\n"
   ]
  },
  {
   "cell_type": "code",
   "execution_count": null,
   "metadata": {},
   "outputs": [],
   "source": [
    "x=df[df.location=='Argentina-Buenos_Aires']['value'].values\n",
    "x=pd.to_numeric(x).sum()\n",
    "y=df[df.location=='Argentina-CABA']['value'].values\n",
    "y=pd.to_numeric(y).sum()\n",
    "z=df[df.location=='Argentina-Catamarca']['value'].values\n",
    "z=pd.to_numeric(z).sum()"
   ]
  },
  {
   "cell_type": "code",
   "execution_count": null,
   "metadata": {
    "scrolled": false
   },
   "outputs": [],
   "source": [
    "activities=['Argentina-Buenos_Aires','Argentina-CABA','Argentina-Catamarca']\n",
    "slices=[x,y,z]\n",
    "colors=['orange','b','g']\n",
    "plt.pie(slices, labels=activities, colors=colors, shadow=True, autopct=\"%1.1f%%\", startangle=90)\n",
    "plt.title(\"Data field values across different locations\")\n",
    "plt.legend(activities,loc=(1.5,1))\n",
    "plt.show()"
   ]
  },
  {
   "cell_type": "code",
   "execution_count": null,
   "metadata": {},
   "outputs": [],
   "source": [
    "x=df[df.location=='Argentina-Buenos_Aires'][['data_field','value']]\n",
    "x.value=pd.to_numeric(x.value)\n",
    "y=df[df.location=='Argentina-CABA'][['data_field','value']]\n",
    "y.value=pd.to_numeric(y.value)\n",
    "\n",
    "# y=df[df.location=='Argentina-CABA'][['data_field','value']]\n",
    "# y.value=pd.to_numeric(y.value)\n",
    "z=df[df.location=='Argentina-Catamarca'][['data_field','value']]\n",
    "z.value=pd.to_numeric(z.value)\n",
    "value=x.groupby('data_field').sum().value.values\n",
    "datafield=x.groupby('data_field').sum().index\n",
    "# value=y.groupby('data_field').sum().value.values\n",
    "# datafield=y.groupby('data_field').sum().index\n",
    "value2=y.groupby('data_field').sum().value.values\n",
    "datafield2=y.groupby('data_field').sum().index\n",
    "value3=z.groupby('data_field').sum().value.values\n",
    "datafield3=z.groupby('data_field').sum().index"
   ]
  },
  {
   "cell_type": "code",
   "execution_count": null,
   "metadata": {},
   "outputs": [],
   "source": [
    "plt.figure(figsize=(10,5))\n",
    "plt.bar(list(datafield),list(value),align='center',width=0.25)\n",
    "plt.bar(list(datafield2),list(value2),align='edge',width=0.25)\n",
    "plt.bar(list(datafield3),list(value3),align='edge',width=-0.25)\n",
    "plt.legend(('Argentina-Buenos_Aires','Argentina-CABA','Argentina-Catamarca'))\n",
    "plt.xticks(rotation='75')\n",
    "plt.ylabel('Values')\n",
    "plt.title('Data field values across different loactions')\n",
    "plt.show()"
   ]
  },
  {
   "cell_type": "code",
   "execution_count": null,
   "metadata": {},
   "outputs": [],
   "source": [
    "plt.pie(value,shadow=True, startangle=90)\n",
    "plt.title('Argentina-Buenos_Aires')\n",
    "plt.legend((x.data_field.unique()),loc=(1.2,0.5))\n",
    "plt.show()\n",
    "plt.pie(value2,shadow=True, startangle=90)\n",
    "plt.title('Argentina-CABA')\n",
    "plt.legend((x.data_field.unique()),loc=(1.2,0.5))\n",
    "plt.show()\n",
    "plt.pie(value3,shadow=True, startangle=90)\n",
    "plt.title('Argentina-Catamarca')\n",
    "plt.legend((x.data_field.unique()),loc=(1.2,0.5))\n",
    "plt.show()"
   ]
  },
  {
   "cell_type": "markdown",
   "metadata": {},
   "source": [
    "# 4. Build a program to predict the correct word for wrongly typed word. for example whst => what, numbr =>number, good => good"
   ]
  },
  {
   "cell_type": "code",
   "execution_count": null,
   "metadata": {},
   "outputs": [],
   "source": [
    "import re\n",
    "from collections import Counter\n",
    "\n",
    "def words(text): return re.findall(r'\\w+', text.lower())\n",
    "\n",
    "WORDS = Counter(words(open('big.txt').read()))\n",
    "\n",
    "def P(word, N=sum(WORDS.values())): \n",
    "    \"Probability of `word`.\"\n",
    "    return WORDS[word] / N\n",
    "\n",
    "def correction(word): \n",
    "    \"Most probable spelling correction for word.\"\n",
    "    return max(candidates(word), key=P)\n",
    "\n",
    "def candidates(word): \n",
    "    \"Generate possible spelling corrections for word.\"\n",
    "    return (known([word]) or known(edits1(word)) or known(edits2(word)) or [word])\n",
    "\n",
    "def known(words): \n",
    "    \"The subset of `words` that appear in the dictionary of WORDS.\"\n",
    "    return set(w for w in words if w in WORDS)\n",
    "\n",
    "def edits1(word):\n",
    "    \"All edits that are one edit away from `word`.\"\n",
    "    letters    = 'abcdefghijklmnopqrstuvwxyz'\n",
    "    splits     = [(word[:i], word[i:])    for i in range(len(word) + 1)]\n",
    "    deletes    = [L + R[1:]               for L, R in splits if R]\n",
    "    transposes = [L + R[1] + R[0] + R[2:] for L, R in splits if len(R)>1]\n",
    "    replaces   = [L + c + R[1:]           for L, R in splits if R for c in letters]\n",
    "    inserts    = [L + c + R               for L, R in splits for c in letters]\n",
    "    return set(deletes + transposes + replaces + inserts)\n",
    "\n",
    "def edits2(word): \n",
    "    \"All edits that are two edits away from `word`.\"\n",
    "    return (e2 for e1 in edits1(word) for e2 in edits1(e1))\n",
    "print(\"Enter the number of test cases\")\n",
    "n=int(input())\n",
    "print(\"Enter the words for correction\")\n",
    "while n:\n",
    "    x=correction(input())\n",
    "    print(x)\n",
    "    n-=1"
   ]
  }
 ],
 "metadata": {
  "kernelspec": {
   "display_name": "Python 3",
   "language": "python",
   "name": "python3"
  },
  "language_info": {
   "codemirror_mode": {
    "name": "ipython",
    "version": 3
   },
   "file_extension": ".py",
   "mimetype": "text/x-python",
   "name": "python",
   "nbconvert_exporter": "python",
   "pygments_lexer": "ipython3",
   "version": "3.7.3"
  }
 },
 "nbformat": 4,
 "nbformat_minor": 2
}
